{
 "cells": [
  {
   "cell_type": "markdown",
   "metadata": {},
   "source": [
    "# Projektna naloga pri predmetu Programiranje 1\n",
    "\n",
    "# Prosta študentska dela"
   ]
  },
  {
   "cell_type": "code",
   "execution_count": 21,
   "metadata": {
    "scrolled": false
   },
   "outputs": [
    {
     "data": {
      "text/html": [
       "<div>\n",
       "<style scoped>\n",
       "    .dataframe tbody tr th:only-of-type {\n",
       "        vertical-align: middle;\n",
       "    }\n",
       "\n",
       "    .dataframe tbody tr th {\n",
       "        vertical-align: top;\n",
       "    }\n",
       "\n",
       "    .dataframe thead th {\n",
       "        text-align: right;\n",
       "    }\n",
       "</style>\n",
       "<table border=\"1\" class=\"dataframe\">\n",
       "  <thead>\n",
       "    <tr style=\"text-align: right;\">\n",
       "      <th></th>\n",
       "      <th>delo</th>\n",
       "      <th>kraj</th>\n",
       "      <th>Regija</th>\n",
       "      <th>plačilo</th>\n",
       "      <th>naslov</th>\n",
       "      <th>datum_pričetka</th>\n",
       "      <th>delovnik</th>\n",
       "      <th>število_članov</th>\n",
       "      <th>trajanje</th>\n",
       "      <th>šifra</th>\n",
       "      <th>opis</th>\n",
       "      <th>podjetje</th>\n",
       "    </tr>\n",
       "  </thead>\n",
       "  <tbody>\n",
       "    <tr>\n",
       "      <th>0</th>\n",
       "      <td>TRŽENJE</td>\n",
       "      <td>GORENJSKA</td>\n",
       "      <td>KRANJ Z OKOLICO</td>\n",
       "      <td>PO DOGOVORU</td>\n",
       "      <td>GORENJSKA</td>\n",
       "      <td>16.11.2020</td>\n",
       "      <td>PO DOGOVORU</td>\n",
       "      <td>12</td>\n",
       "      <td>PO DOGOVORU</td>\n",
       "      <td>270835</td>\n",
       "      <td>Promocija in trženje pri vnaprej dogovorjenih ...</td>\n",
       "      <td>PJAGODIC, D.O.O.</td>\n",
       "    </tr>\n",
       "    <tr>\n",
       "      <th>1</th>\n",
       "      <td>TRŽENJE</td>\n",
       "      <td>LJUBLJANA Z OKOLICO</td>\n",
       "      <td>LJUBLJANA Z OKOLICO</td>\n",
       "      <td>PO DOGOVORU</td>\n",
       "      <td>LJUBLJANA Z OKOLICO</td>\n",
       "      <td>16.11.2020</td>\n",
       "      <td>DOPOLDAN</td>\n",
       "      <td>12</td>\n",
       "      <td>PO DOGOVORU</td>\n",
       "      <td>270841</td>\n",
       "      <td>Promocija in trženje pri vnaprej dogovorjenih ...</td>\n",
       "      <td>PJAGODIC, D.O.O.</td>\n",
       "    </tr>\n",
       "    <tr>\n",
       "      <th>2</th>\n",
       "      <td>TRŽENJE</td>\n",
       "      <td>ŠTAJERSKA</td>\n",
       "      <td>PODRAVSKA</td>\n",
       "      <td>PO DOGOVORU</td>\n",
       "      <td>ŠTAJERSKA</td>\n",
       "      <td>16.11.2020</td>\n",
       "      <td>PO DOGOVORU</td>\n",
       "      <td>12</td>\n",
       "      <td>PO DOGOVORU</td>\n",
       "      <td>270842</td>\n",
       "      <td>Promocija in trženje pri vnaprej dogovorjenih ...</td>\n",
       "      <td>PJAGODIC, D.O.O.</td>\n",
       "    </tr>\n",
       "    <tr>\n",
       "      <th>3</th>\n",
       "      <td>TRŽENJE</td>\n",
       "      <td>DOLENJSKA</td>\n",
       "      <td>DOLENJSKA</td>\n",
       "      <td>PO DOGOVORU</td>\n",
       "      <td>DOLENJSKA</td>\n",
       "      <td>16.11.2020</td>\n",
       "      <td>PO DOGOVORU</td>\n",
       "      <td>12</td>\n",
       "      <td>PO DOGOVORU</td>\n",
       "      <td>270843</td>\n",
       "      <td>Promocija in trženje pri vnaprej dogovorjenih ...</td>\n",
       "      <td>PJAGODIC, D.O.O.</td>\n",
       "    </tr>\n",
       "    <tr>\n",
       "      <th>4</th>\n",
       "      <td>PROGRAMIRANJE</td>\n",
       "      <td>ŠKOFJA LOKA, OBČASNO TUDI OD DOMA</td>\n",
       "      <td>ŠKOFJA LOKA Z OKOLICO</td>\n",
       "      <td>PO DOGOVORU</td>\n",
       "      <td>KIDRIČEVA CESTA 56</td>\n",
       "      <td>16.11.2020</td>\n",
       "      <td>PO DOGOVORU</td>\n",
       "      <td>1</td>\n",
       "      <td>DLJE ČASA (OBČASNO)</td>\n",
       "      <td>280498</td>\n",
       "      <td>Podjetje išče front-end programerja za sodelov...</td>\n",
       "      <td>NEVRON D.O.O.</td>\n",
       "    </tr>\n",
       "    <tr>\n",
       "      <th>...</th>\n",
       "      <td>...</td>\n",
       "      <td>...</td>\n",
       "      <td>...</td>\n",
       "      <td>...</td>\n",
       "      <td>...</td>\n",
       "      <td>...</td>\n",
       "      <td>...</td>\n",
       "      <td>...</td>\n",
       "      <td>...</td>\n",
       "      <td>...</td>\n",
       "      <td>...</td>\n",
       "      <td>...</td>\n",
       "    </tr>\n",
       "    <tr>\n",
       "      <th>746</th>\n",
       "      <td>ADMINISTRATIVNA DELA</td>\n",
       "      <td>LJUBLJANA</td>\n",
       "      <td>LJUBLJANA Z OKOLICO</td>\n",
       "      <td>6.00 EUR/h NETO, 7.10 EUR/h BRUTO</td>\n",
       "      <td>POLJANSKI NASIP 6</td>\n",
       "      <td>16.11.2020</td>\n",
       "      <td>PO DOGOVORU</td>\n",
       "      <td>1</td>\n",
       "      <td>DLJE ČASA (OBČASNO) OZ PO DOGOVORU</td>\n",
       "      <td>327009</td>\n",
       "      <td>Podjetje z dinamično in angažirano ekipo išče ...</td>\n",
       "      <td>DESLO - AHK, POSLOVNE STORITVE D.O.O.</td>\n",
       "    </tr>\n",
       "    <tr>\n",
       "      <th>747</th>\n",
       "      <td>ELEKTROTEHNIČNA DELA</td>\n",
       "      <td>LJUBLJANA BIZOVIK</td>\n",
       "      <td>LJUBLJANA Z OKOLICO</td>\n",
       "      <td>PO DOGOVORU</td>\n",
       "      <td>CESTA V KOSTANJ 21 C</td>\n",
       "      <td>16.11.2020</td>\n",
       "      <td>DOPOLDAN</td>\n",
       "      <td>1</td>\n",
       "      <td>DLJE ČASA (OBČASNO)</td>\n",
       "      <td>327010</td>\n",
       "      <td>Pomoč pri razvoju novega izdelka. Konstruiranj...</td>\n",
       "      <td>VALBA D.O.O.</td>\n",
       "    </tr>\n",
       "    <tr>\n",
       "      <th>748</th>\n",
       "      <td>FIZIČNA DELA</td>\n",
       "      <td>LJUBLJANA</td>\n",
       "      <td>LJUBLJANA Z OKOLICO</td>\n",
       "      <td>5.07 EUR/h NETO, 6.00 EUR/h BRUTO</td>\n",
       "      <td>C. LJUBLJANSKE BRIGADE 11</td>\n",
       "      <td>19.11.2020</td>\n",
       "      <td>DOPOLDAN</td>\n",
       "      <td>2</td>\n",
       "      <td>OD 19. 11. DO 30. 11. 2020</td>\n",
       "      <td>327011</td>\n",
       "      <td>Kratkotrajno delo - Podjetje išče osebo za del...</td>\n",
       "      <td>GEOPLIN D.O.O. LJUBLJANA</td>\n",
       "    </tr>\n",
       "    <tr>\n",
       "      <th>749</th>\n",
       "      <td>RAČUNALNIŠKE STORITVE</td>\n",
       "      <td>LJUBLJANA</td>\n",
       "      <td>LJUBLJANA Z OKOLICO</td>\n",
       "      <td>PO DOGOVORU</td>\n",
       "      <td>CESTA V KOSTANJ 21 C ALI, OD DOMA</td>\n",
       "      <td>16.11.2020</td>\n",
       "      <td>DOPOLDAN</td>\n",
       "      <td>1</td>\n",
       "      <td>DLJE ČASA (OBČASNO)</td>\n",
       "      <td>327012</td>\n",
       "      <td>Pri razvoju novega izdelka potrebujejo pomoč p...</td>\n",
       "      <td>VALBA D.O.O.</td>\n",
       "    </tr>\n",
       "    <tr>\n",
       "      <th>750</th>\n",
       "      <td>DELO V SKLADIŠČU</td>\n",
       "      <td>TRZIN</td>\n",
       "      <td>DOMŽALE-KAMNIK</td>\n",
       "      <td>4.56 EUR/h NETO, 5.40 EUR/h BRUTO</td>\n",
       "      <td>MOTNICA 7</td>\n",
       "      <td>17.11.2020</td>\n",
       "      <td>DOPOLDAN</td>\n",
       "      <td>1</td>\n",
       "      <td>2 TEDNA</td>\n",
       "      <td>327013</td>\n",
       "      <td>Podjetje potrebuje študenta/študentko za pripr...</td>\n",
       "      <td>AER LT TRGOVINA NA DEBELO D.O.O.</td>\n",
       "    </tr>\n",
       "  </tbody>\n",
       "</table>\n",
       "<p>751 rows × 12 columns</p>\n",
       "</div>"
      ],
      "text/plain": [
       "                      delo                               kraj  \\\n",
       "0                  TRŽENJE                          GORENJSKA   \n",
       "1                  TRŽENJE                LJUBLJANA Z OKOLICO   \n",
       "2                  TRŽENJE                          ŠTAJERSKA   \n",
       "3                  TRŽENJE                          DOLENJSKA   \n",
       "4            PROGRAMIRANJE  ŠKOFJA LOKA, OBČASNO TUDI OD DOMA   \n",
       "..                     ...                                ...   \n",
       "746   ADMINISTRATIVNA DELA                          LJUBLJANA   \n",
       "747   ELEKTROTEHNIČNA DELA                  LJUBLJANA BIZOVIK   \n",
       "748           FIZIČNA DELA                          LJUBLJANA   \n",
       "749  RAČUNALNIŠKE STORITVE                          LJUBLJANA   \n",
       "750       DELO V SKLADIŠČU                              TRZIN   \n",
       "\n",
       "                    Regija                            plačilo  \\\n",
       "0          KRANJ Z OKOLICO                        PO DOGOVORU   \n",
       "1      LJUBLJANA Z OKOLICO                        PO DOGOVORU   \n",
       "2                PODRAVSKA                        PO DOGOVORU   \n",
       "3                DOLENJSKA                        PO DOGOVORU   \n",
       "4    ŠKOFJA LOKA Z OKOLICO                        PO DOGOVORU   \n",
       "..                     ...                                ...   \n",
       "746    LJUBLJANA Z OKOLICO  6.00 EUR/h NETO, 7.10 EUR/h BRUTO   \n",
       "747    LJUBLJANA Z OKOLICO                        PO DOGOVORU   \n",
       "748    LJUBLJANA Z OKOLICO  5.07 EUR/h NETO, 6.00 EUR/h BRUTO   \n",
       "749    LJUBLJANA Z OKOLICO                        PO DOGOVORU   \n",
       "750         DOMŽALE-KAMNIK  4.56 EUR/h NETO, 5.40 EUR/h BRUTO   \n",
       "\n",
       "                                naslov datum_pričetka     delovnik  \\\n",
       "0                            GORENJSKA     16.11.2020  PO DOGOVORU   \n",
       "1                  LJUBLJANA Z OKOLICO     16.11.2020     DOPOLDAN   \n",
       "2                            ŠTAJERSKA     16.11.2020  PO DOGOVORU   \n",
       "3                            DOLENJSKA     16.11.2020  PO DOGOVORU   \n",
       "4                   KIDRIČEVA CESTA 56     16.11.2020  PO DOGOVORU   \n",
       "..                                 ...            ...          ...   \n",
       "746                  POLJANSKI NASIP 6     16.11.2020  PO DOGOVORU   \n",
       "747               CESTA V KOSTANJ 21 C     16.11.2020     DOPOLDAN   \n",
       "748          C. LJUBLJANSKE BRIGADE 11     19.11.2020     DOPOLDAN   \n",
       "749  CESTA V KOSTANJ 21 C ALI, OD DOMA     16.11.2020     DOPOLDAN   \n",
       "750                          MOTNICA 7     17.11.2020     DOPOLDAN   \n",
       "\n",
       "     število_članov                            trajanje   šifra  \\\n",
       "0                12                         PO DOGOVORU  270835   \n",
       "1                12                         PO DOGOVORU  270841   \n",
       "2                12                         PO DOGOVORU  270842   \n",
       "3                12                         PO DOGOVORU  270843   \n",
       "4                 1                 DLJE ČASA (OBČASNO)  280498   \n",
       "..              ...                                 ...     ...   \n",
       "746               1  DLJE ČASA (OBČASNO) OZ PO DOGOVORU  327009   \n",
       "747               1                 DLJE ČASA (OBČASNO)  327010   \n",
       "748               2          OD 19. 11. DO 30. 11. 2020  327011   \n",
       "749               1                 DLJE ČASA (OBČASNO)  327012   \n",
       "750               1                             2 TEDNA  327013   \n",
       "\n",
       "                                                  opis  \\\n",
       "0    Promocija in trženje pri vnaprej dogovorjenih ...   \n",
       "1    Promocija in trženje pri vnaprej dogovorjenih ...   \n",
       "2    Promocija in trženje pri vnaprej dogovorjenih ...   \n",
       "3    Promocija in trženje pri vnaprej dogovorjenih ...   \n",
       "4    Podjetje išče front-end programerja za sodelov...   \n",
       "..                                                 ...   \n",
       "746  Podjetje z dinamično in angažirano ekipo išče ...   \n",
       "747  Pomoč pri razvoju novega izdelka. Konstruiranj...   \n",
       "748  Kratkotrajno delo - Podjetje išče osebo za del...   \n",
       "749  Pri razvoju novega izdelka potrebujejo pomoč p...   \n",
       "750  Podjetje potrebuje študenta/študentko za pripr...   \n",
       "\n",
       "                                  podjetje  \n",
       "0                         PJAGODIC, D.O.O.  \n",
       "1                         PJAGODIC, D.O.O.  \n",
       "2                         PJAGODIC, D.O.O.  \n",
       "3                         PJAGODIC, D.O.O.  \n",
       "4                            NEVRON D.O.O.  \n",
       "..                                     ...  \n",
       "746  DESLO - AHK, POSLOVNE STORITVE D.O.O.  \n",
       "747                           VALBA D.O.O.  \n",
       "748               GEOPLIN D.O.O. LJUBLJANA  \n",
       "749                           VALBA D.O.O.  \n",
       "750       AER LT TRGOVINA NA DEBELO D.O.O.  \n",
       "\n",
       "[751 rows x 12 columns]"
      ]
     },
     "execution_count": 21,
     "metadata": {},
     "output_type": "execute_result"
    }
   ],
   "source": [
    "import pandas as pd \n",
    "import numpy\n",
    "from matplotlib import pyplot as plt\n",
    "\n",
    "osrednjeslovenska = ['LJUBLJANA Z OKOLICO', 'DOMŽALE-KAMNIK', 'GROSUPLJE Z OKOLICO', 'VRHNIKA Z OKOLICO']\n",
    "podravska = ['MARIBOR Z OKOLICO', 'PTUJ Z OKOLICO']\n",
    "gorenjska = ['KRANJ Z OKOLICO', 'ŠKOFJA LOKA Z OKOLICO', 'RADOVLJICA Z OKOLICO', 'JESENICE Z OKOLICO']\n",
    "obalnokraška = ['KOPER Z OKOLICO', 'IZOLA Z OKOLICO', 'PIRAN Z OKOLICO']\n",
    "regije = {'OSREDNJESLOVENSKA': osrednjeslovenska, 'PODRAVSKA': podravska, 'GORENJSKA': gorenjska, 'OBALNOKRAŠKA': obalnokraška}\n",
    "\n",
    "oglasi = pd.read_csv('obdelani-podatki/oglasi.csv') \n",
    "pd.options.display.max_rows = 20\n",
    "oglasi"
   ]
  },
  {
   "cell_type": "code",
   "execution_count": 22,
   "metadata": {
    "scrolled": true
   },
   "outputs": [],
   "source": [
    "def poenotene_regije(dataframe):\n",
    "    df = dataframe.copy()\n",
    "    df['podregije'] = df['Regija']\n",
    "    for regija in regije:\n",
    "        for x in regije[regija]:\n",
    "            df.replace({'Regija': {x:regija}}, inplace=True)\n",
    "    return df\n",
    "glavne_regije = poenotene_regije(oglasi)"
   ]
  },
  {
   "cell_type": "code",
   "execution_count": 23,
   "metadata": {},
   "outputs": [],
   "source": [
    "def popravi_placilo(df):\n",
    "    neto, bruto = [], []\n",
    "    for i in range(len(df)):\n",
    "        y = df.iloc[i]['plačilo']\n",
    "        if 'NETO' in y:\n",
    "            x = y.split(', ')\n",
    "            neto.append(float(x[0].split(' ')[0]))\n",
    "            bruto.append(float(x[1].split(' ')[0]))\n",
    "        elif 'PO PROJEKTU' in y:\n",
    "            neto.append('PO PROJEKTU')\n",
    "            bruto.append('PO PROJEKTU')\n",
    "        else:\n",
    "            neto.append('PO DOGOVORU')\n",
    "            bruto.append('PO DOGOVORU') \n",
    "    df['neto'], df['bruto'] = neto, bruto\n",
    "    return df\n",
    "\n",
    "oglasi_neto = popravi_placilo(glavne_regije)"
   ]
  },
  {
   "cell_type": "code",
   "execution_count": 24,
   "metadata": {
    "scrolled": true
   },
   "outputs": [],
   "source": [
    "def oglasi_s_placilom(dataframe):\n",
    "    df = dataframe.copy()\n",
    "    df = df[(df['neto'] != 'PO DOGOVORU') & (df['neto'] != 'PO PROJEKTU')]\n",
    "    df['neto'] = pd.to_numeric(df['neto'], downcast=\"float\")\n",
    "    df['bruto'] = pd.to_numeric(df['bruto'], downcast=\"float\")\n",
    "    return df\n",
    "\n",
    "popolni_oglasi = oglasi_s_placilom(oglasi_neto)"
   ]
  },
  {
   "cell_type": "code",
   "execution_count": 25,
   "metadata": {},
   "outputs": [],
   "source": [
    "placa_regije = popolni_oglasi[['Regija', 'neto']]"
   ]
  },
  {
   "cell_type": "code",
   "execution_count": 26,
   "metadata": {},
   "outputs": [
    {
     "data": {
      "text/plain": [
       "Regija\n",
       "DOLENJSKA            5.36\n",
       "GORENJSKA            5.66\n",
       "GORIŠKA              5.08\n",
       "KOROŠKA              5.08\n",
       "NOTRANJSKO KRAŠKA    5.18\n",
       "OBALNOKRAŠKA         5.30\n",
       "OSREDNJESLOVENSKA    5.84\n",
       "PODRAVSKA            5.38\n",
       "POMURSKA             5.49\n",
       "SAVINJSKA            5.33\n",
       "SPODNJEPOSAVSKA      5.39\n",
       "ZASAVSKA             5.16\n",
       "Name: neto, dtype: float32"
      ]
     },
     "execution_count": 26,
     "metadata": {},
     "output_type": "execute_result"
    }
   ],
   "source": [
    "povprecna_placa_regije = placa_regije.groupby('Regija')['neto'].mean().round(2)\n",
    "povprecna_placa_regije"
   ]
  },
  {
   "cell_type": "code",
   "execution_count": 27,
   "metadata": {},
   "outputs": [
    {
     "data": {
      "text/plain": [
       "5.6101966"
      ]
     },
     "execution_count": 27,
     "metadata": {},
     "output_type": "execute_result"
    }
   ],
   "source": [
    "povprecna_placa = popolni_oglasi[ \"neto\"].mean()\n",
    "povprecna_placa"
   ]
  },
  {
   "cell_type": "markdown",
   "metadata": {},
   "source": [
    "### Analiza del po regijah"
   ]
  },
  {
   "cell_type": "markdown",
   "metadata": {},
   "source": [
    "### Analiza različnih tipov študentskih del"
   ]
  },
  {
   "cell_type": "markdown",
   "metadata": {},
   "source": [
    "### Zaključek"
   ]
  },
  {
   "cell_type": "markdown",
   "metadata": {},
   "source": [
    "## Funkcije\n"
   ]
  },
  {
   "cell_type": "code",
   "execution_count": 28,
   "metadata": {},
   "outputs": [],
   "source": [
    "def razpon_placila(dataframe, row1, row2):\n",
    "    groupbyrow = dataframe.groupby(row1)\n",
    "    najmanjse_placilo = groupbyrow.min()\n",
    "    najmanjse_placilo.columns = [\"Min placilo [EUR/h]\"]\n",
    "    najvecje_placilo = groupbyrow.max()\n",
    "    najvecje_placilo.columns = [\"Max placilo [EUR/h]\"]\n",
    "    povprecno_placilo = dataframe.groupby(row1)[row2].mean().round(2)\n",
    "    povprecno_placilo = povprecno_placilo.rename(\"Mean placilo [EUR/h]\")\n",
    "\n",
    "\n",
    "    razpon_placila = najmanjse_placilo.join(najvecje_placilo, how = \"outer\")\n",
    "    razpon_placila = razpon_placila.join(povprecno_placilo, how = \"outer\")\n",
    "    return razpon_placila"
   ]
  },
  {
   "cell_type": "markdown",
   "metadata": {},
   "source": [
    "## 1. Analiza del po regijah"
   ]
  },
  {
   "cell_type": "markdown",
   "metadata": {},
   "source": [
    "### 1.1. Število del po regijah in po podregijah osrednjeslovenske"
   ]
  },
  {
   "cell_type": "markdown",
   "metadata": {},
   "source": [
    "V tem razdelku bomo pogledali, kako se vrsta del in plačilo del razlikujejo glede na regije. Najprej si preuredimo izvirno tabelo."
   ]
  },
  {
   "cell_type": "code",
   "execution_count": 29,
   "metadata": {},
   "outputs": [
    {
     "data": {
      "text/html": [
       "<div>\n",
       "<style scoped>\n",
       "    .dataframe tbody tr th:only-of-type {\n",
       "        vertical-align: middle;\n",
       "    }\n",
       "\n",
       "    .dataframe tbody tr th {\n",
       "        vertical-align: top;\n",
       "    }\n",
       "\n",
       "    .dataframe thead th {\n",
       "        text-align: right;\n",
       "    }\n",
       "</style>\n",
       "<table border=\"1\" class=\"dataframe\">\n",
       "  <thead>\n",
       "    <tr style=\"text-align: right;\">\n",
       "      <th></th>\n",
       "      <th>delo</th>\n",
       "      <th>kraj</th>\n",
       "      <th>Regija</th>\n",
       "      <th>podregije</th>\n",
       "      <th>število_članov</th>\n",
       "    </tr>\n",
       "  </thead>\n",
       "  <tbody>\n",
       "    <tr>\n",
       "      <th>0</th>\n",
       "      <td>TRŽENJE</td>\n",
       "      <td>GORENJSKA</td>\n",
       "      <td>GORENJSKA</td>\n",
       "      <td>KRANJ Z OKOLICO</td>\n",
       "      <td>12</td>\n",
       "    </tr>\n",
       "    <tr>\n",
       "      <th>1</th>\n",
       "      <td>TRŽENJE</td>\n",
       "      <td>LJUBLJANA Z OKOLICO</td>\n",
       "      <td>OSREDNJESLOVENSKA</td>\n",
       "      <td>LJUBLJANA Z OKOLICO</td>\n",
       "      <td>12</td>\n",
       "    </tr>\n",
       "    <tr>\n",
       "      <th>2</th>\n",
       "      <td>TRŽENJE</td>\n",
       "      <td>ŠTAJERSKA</td>\n",
       "      <td>PODRAVSKA</td>\n",
       "      <td>PODRAVSKA</td>\n",
       "      <td>12</td>\n",
       "    </tr>\n",
       "    <tr>\n",
       "      <th>3</th>\n",
       "      <td>TRŽENJE</td>\n",
       "      <td>DOLENJSKA</td>\n",
       "      <td>DOLENJSKA</td>\n",
       "      <td>DOLENJSKA</td>\n",
       "      <td>12</td>\n",
       "    </tr>\n",
       "    <tr>\n",
       "      <th>4</th>\n",
       "      <td>PROGRAMIRANJE</td>\n",
       "      <td>ŠKOFJA LOKA, OBČASNO TUDI OD DOMA</td>\n",
       "      <td>GORENJSKA</td>\n",
       "      <td>ŠKOFJA LOKA Z OKOLICO</td>\n",
       "      <td>1</td>\n",
       "    </tr>\n",
       "    <tr>\n",
       "      <th>...</th>\n",
       "      <td>...</td>\n",
       "      <td>...</td>\n",
       "      <td>...</td>\n",
       "      <td>...</td>\n",
       "      <td>...</td>\n",
       "    </tr>\n",
       "    <tr>\n",
       "      <th>746</th>\n",
       "      <td>ADMINISTRATIVNA DELA</td>\n",
       "      <td>LJUBLJANA</td>\n",
       "      <td>OSREDNJESLOVENSKA</td>\n",
       "      <td>LJUBLJANA Z OKOLICO</td>\n",
       "      <td>1</td>\n",
       "    </tr>\n",
       "    <tr>\n",
       "      <th>747</th>\n",
       "      <td>ELEKTROTEHNIČNA DELA</td>\n",
       "      <td>LJUBLJANA BIZOVIK</td>\n",
       "      <td>OSREDNJESLOVENSKA</td>\n",
       "      <td>LJUBLJANA Z OKOLICO</td>\n",
       "      <td>1</td>\n",
       "    </tr>\n",
       "    <tr>\n",
       "      <th>748</th>\n",
       "      <td>FIZIČNA DELA</td>\n",
       "      <td>LJUBLJANA</td>\n",
       "      <td>OSREDNJESLOVENSKA</td>\n",
       "      <td>LJUBLJANA Z OKOLICO</td>\n",
       "      <td>2</td>\n",
       "    </tr>\n",
       "    <tr>\n",
       "      <th>749</th>\n",
       "      <td>RAČUNALNIŠKE STORITVE</td>\n",
       "      <td>LJUBLJANA</td>\n",
       "      <td>OSREDNJESLOVENSKA</td>\n",
       "      <td>LJUBLJANA Z OKOLICO</td>\n",
       "      <td>1</td>\n",
       "    </tr>\n",
       "    <tr>\n",
       "      <th>750</th>\n",
       "      <td>DELO V SKLADIŠČU</td>\n",
       "      <td>TRZIN</td>\n",
       "      <td>OSREDNJESLOVENSKA</td>\n",
       "      <td>DOMŽALE-KAMNIK</td>\n",
       "      <td>1</td>\n",
       "    </tr>\n",
       "  </tbody>\n",
       "</table>\n",
       "<p>751 rows × 5 columns</p>\n",
       "</div>"
      ],
      "text/plain": [
       "                      delo                               kraj  \\\n",
       "0                  TRŽENJE                          GORENJSKA   \n",
       "1                  TRŽENJE                LJUBLJANA Z OKOLICO   \n",
       "2                  TRŽENJE                          ŠTAJERSKA   \n",
       "3                  TRŽENJE                          DOLENJSKA   \n",
       "4            PROGRAMIRANJE  ŠKOFJA LOKA, OBČASNO TUDI OD DOMA   \n",
       "..                     ...                                ...   \n",
       "746   ADMINISTRATIVNA DELA                          LJUBLJANA   \n",
       "747   ELEKTROTEHNIČNA DELA                  LJUBLJANA BIZOVIK   \n",
       "748           FIZIČNA DELA                          LJUBLJANA   \n",
       "749  RAČUNALNIŠKE STORITVE                          LJUBLJANA   \n",
       "750       DELO V SKLADIŠČU                              TRZIN   \n",
       "\n",
       "                Regija              podregije  število_članov  \n",
       "0            GORENJSKA        KRANJ Z OKOLICO              12  \n",
       "1    OSREDNJESLOVENSKA    LJUBLJANA Z OKOLICO              12  \n",
       "2            PODRAVSKA              PODRAVSKA              12  \n",
       "3            DOLENJSKA              DOLENJSKA              12  \n",
       "4            GORENJSKA  ŠKOFJA LOKA Z OKOLICO               1  \n",
       "..                 ...                    ...             ...  \n",
       "746  OSREDNJESLOVENSKA    LJUBLJANA Z OKOLICO               1  \n",
       "747  OSREDNJESLOVENSKA    LJUBLJANA Z OKOLICO               1  \n",
       "748  OSREDNJESLOVENSKA    LJUBLJANA Z OKOLICO               2  \n",
       "749  OSREDNJESLOVENSKA    LJUBLJANA Z OKOLICO               1  \n",
       "750  OSREDNJESLOVENSKA         DOMŽALE-KAMNIK               1  \n",
       "\n",
       "[751 rows x 5 columns]"
      ]
     },
     "execution_count": 29,
     "metadata": {},
     "output_type": "execute_result"
    }
   ],
   "source": [
    "#glavne_regije = poenotene_regije(oglasi)\n",
    "oglasi_regije = glavne_regije[['delo','kraj','Regija','podregije','število_članov']]\n",
    "oglasi_regije"
   ]
  },
  {
   "cell_type": "markdown",
   "metadata": {},
   "source": [
    "Poglejmo si, koliko je razpoložljivih del v posameznih regijah. Ker so regije osrednjoslovenska, podravska, gorenjska in obalno-kraška razdeljene na podregije, jih preimenujemo nazaj v regijo, v kateri se nahajajo (npr. Vrhnika z okolico se bo spremenila v osrednjeslovensko)."
   ]
  },
  {
   "cell_type": "code",
   "execution_count": 30,
   "metadata": {},
   "outputs": [
    {
     "data": {
      "text/plain": [
       "Regija\n",
       "DOLENJSKA             30\n",
       "GORENJSKA            103\n",
       "GORIŠKA                8\n",
       "KOROŠKA                7\n",
       "NOTRANJSKO KRAŠKA     22\n",
       "OBALNOKRAŠKA          16\n",
       "OSREDNJESLOVENSKA    341\n",
       "PODRAVSKA            115\n",
       "POMURSKA              11\n",
       "SAVINJSKA             71\n",
       "SPODNJEPOSAVSKA       14\n",
       "ZASAVSKA              13\n",
       "dtype: int64"
      ]
     },
     "execution_count": 30,
     "metadata": {},
     "output_type": "execute_result"
    }
   ],
   "source": [
    "po_regijah = oglasi_regije.groupby('Regija')\n",
    "pd.options.display.max_rows = 15\n",
    "st_po_regijah = po_regijah.size()\n",
    "st_po_regijah"
   ]
  },
  {
   "cell_type": "code",
   "execution_count": 78,
   "metadata": {
    "scrolled": true
   },
   "outputs": [
    {
     "data": {
      "image/png": "[encoded data removed]",
      "text/plain": [
       "<Figure size 432x288 with 1 Axes>"
      ]
     },
     "metadata": {},
     "output_type": "display_data"
    }
   ],
   "source": [
    "fig1, ax1 = plt.subplots()\n",
    "ax1.pie(st_po_regijah, labels=None,\n",
    "        shadow=True, startangle=90)\n",
    "ax1.axis('equal')\n",
    "ax1.legend(loc=0,bbox_to_anchor=(1, 0, 0.5, 1),labels=st_po_regijah.index)\n",
    "ax1.set_title(\"Število del v Sloveniji\")\n",
    "plt.show()"
   ]
  },
  {
   "cell_type": "code",
   "execution_count": 32,
   "metadata": {
    "scrolled": true
   },
   "outputs": [
    {
     "data": {
      "text/plain": [
       "<AxesSubplot:xlabel='Regija'>"
      ]
     },
     "execution_count": 32,
     "metadata": {},
     "output_type": "execute_result"
    },
    {
     "data": {
      "image/png": "[encoded data removed]",
      "text/plain": [
       "<Figure size 432x288 with 1 Axes>"
      ]
     },
     "metadata": {
      "needs_background": "light"
     },
     "output_type": "display_data"
    }
   ],
   "source": [
    "st_po_regijah.plot(kind = \"bar\")"
   ]
  },
  {
   "cell_type": "code",
   "execution_count": 33,
   "metadata": {},
   "outputs": [
    {
     "data": {
      "text/plain": [
       "podregije\n",
       "DOMŽALE-KAMNIK          77\n",
       "GROSUPLJE Z OKOLICO     17\n",
       "LJUBLJANA Z OKOLICO    225\n",
       "VRHNIKA Z OKOLICO       22\n",
       "dtype: int64"
      ]
     },
     "execution_count": 33,
     "metadata": {},
     "output_type": "execute_result"
    }
   ],
   "source": [
    "oglasi_osrednjeslovenska = oglasi_regije[oglasi_regije[\"Regija\"] == \"OSREDNJESLOVENSKA\"]\n",
    "po_podregijah = oglasi_osrednjeslovenska.groupby('podregije')\n",
    "st_po_podregijah = po_podregijah.size()\n",
    "st_po_podregijah"
   ]
  },
  {
   "cell_type": "code",
   "execution_count": 79,
   "metadata": {},
   "outputs": [
    {
     "data": {
      "image/png": "[encoded data removed]",
      "text/plain": [
       "<Figure size 432x288 with 1 Axes>"
      ]
     },
     "metadata": {},
     "output_type": "display_data"
    }
   ],
   "source": [
    "fig1, ax1 = plt.subplots()\n",
    "ax1.pie(st_po_podregijah, labels=None,\n",
    "        shadow=True, startangle=90, autopct='%1.1f%%',)\n",
    "ax1.axis('equal')\n",
    "ax1.legend(loc=0,bbox_to_anchor=(1, 0, 0.5, 1),labels=st_po_podregijah.index)\n",
    "ax1.set_title(\"Število del v osrednji Sloveniji\")\n",
    "plt.show()"
   ]
  },
  {
   "cell_type": "markdown",
   "metadata": {},
   "source": [
    "### 1.2. Plačilo del"
   ]
  },
  {
   "cell_type": "code",
   "execution_count": 36,
   "metadata": {
    "scrolled": true
   },
   "outputs": [
    {
     "data": {
      "text/html": [
       "<div>\n",
       "<style scoped>\n",
       "    .dataframe tbody tr th:only-of-type {\n",
       "        vertical-align: middle;\n",
       "    }\n",
       "\n",
       "    .dataframe tbody tr th {\n",
       "        vertical-align: top;\n",
       "    }\n",
       "\n",
       "    .dataframe thead th {\n",
       "        text-align: right;\n",
       "    }\n",
       "</style>\n",
       "<table border=\"1\" class=\"dataframe\">\n",
       "  <thead>\n",
       "    <tr style=\"text-align: right;\">\n",
       "      <th></th>\n",
       "      <th>delo</th>\n",
       "      <th>Regija</th>\n",
       "      <th>podregije</th>\n",
       "      <th>neto</th>\n",
       "      <th>bruto</th>\n",
       "    </tr>\n",
       "  </thead>\n",
       "  <tbody>\n",
       "    <tr>\n",
       "      <th>5</th>\n",
       "      <td>FIZIČNA DELA</td>\n",
       "      <td>OSREDNJESLOVENSKA</td>\n",
       "      <td>DOMŽALE-KAMNIK</td>\n",
       "      <td>4.65</td>\n",
       "      <td>5.50</td>\n",
       "    </tr>\n",
       "    <tr>\n",
       "      <th>6</th>\n",
       "      <td>PROGRAMIRANJE</td>\n",
       "      <td>OSREDNJESLOVENSKA</td>\n",
       "      <td>LJUBLJANA Z OKOLICO</td>\n",
       "      <td>7.00</td>\n",
       "      <td>8.28</td>\n",
       "    </tr>\n",
       "    <tr>\n",
       "      <th>8</th>\n",
       "      <td>TRENER/KA</td>\n",
       "      <td>GORENJSKA</td>\n",
       "      <td>JESENICE Z OKOLICO</td>\n",
       "      <td>8.45</td>\n",
       "      <td>10.00</td>\n",
       "    </tr>\n",
       "    <tr>\n",
       "      <th>9</th>\n",
       "      <td>PARKIRANJE VOZIL</td>\n",
       "      <td>OBALNOKRAŠKA</td>\n",
       "      <td>KOPER Z OKOLICO</td>\n",
       "      <td>4.79</td>\n",
       "      <td>5.67</td>\n",
       "    </tr>\n",
       "    <tr>\n",
       "      <th>10</th>\n",
       "      <td>POUČEVANJE</td>\n",
       "      <td>GORENJSKA</td>\n",
       "      <td>ŠKOFJA LOKA Z OKOLICO</td>\n",
       "      <td>9.00</td>\n",
       "      <td>10.65</td>\n",
       "    </tr>\n",
       "    <tr>\n",
       "      <th>...</th>\n",
       "      <td>...</td>\n",
       "      <td>...</td>\n",
       "      <td>...</td>\n",
       "      <td>...</td>\n",
       "      <td>...</td>\n",
       "    </tr>\n",
       "    <tr>\n",
       "      <th>744</th>\n",
       "      <td>ADMINISTRATIVNA DELA</td>\n",
       "      <td>OSREDNJESLOVENSKA</td>\n",
       "      <td>DOMŽALE-KAMNIK</td>\n",
       "      <td>6.76</td>\n",
       "      <td>8.00</td>\n",
       "    </tr>\n",
       "    <tr>\n",
       "      <th>745</th>\n",
       "      <td>DELO V PROIZVODNJI</td>\n",
       "      <td>DOLENJSKA</td>\n",
       "      <td>DOLENJSKA</td>\n",
       "      <td>5.07</td>\n",
       "      <td>6.00</td>\n",
       "    </tr>\n",
       "    <tr>\n",
       "      <th>746</th>\n",
       "      <td>ADMINISTRATIVNA DELA</td>\n",
       "      <td>OSREDNJESLOVENSKA</td>\n",
       "      <td>LJUBLJANA Z OKOLICO</td>\n",
       "      <td>6.00</td>\n",
       "      <td>7.10</td>\n",
       "    </tr>\n",
       "    <tr>\n",
       "      <th>748</th>\n",
       "      <td>FIZIČNA DELA</td>\n",
       "      <td>OSREDNJESLOVENSKA</td>\n",
       "      <td>LJUBLJANA Z OKOLICO</td>\n",
       "      <td>5.07</td>\n",
       "      <td>6.00</td>\n",
       "    </tr>\n",
       "    <tr>\n",
       "      <th>750</th>\n",
       "      <td>DELO V SKLADIŠČU</td>\n",
       "      <td>OSREDNJESLOVENSKA</td>\n",
       "      <td>DOMŽALE-KAMNIK</td>\n",
       "      <td>4.56</td>\n",
       "      <td>5.40</td>\n",
       "    </tr>\n",
       "  </tbody>\n",
       "</table>\n",
       "<p>661 rows × 5 columns</p>\n",
       "</div>"
      ],
      "text/plain": [
       "                     delo             Regija              podregije  neto  \\\n",
       "5            FIZIČNA DELA  OSREDNJESLOVENSKA         DOMŽALE-KAMNIK  4.65   \n",
       "6           PROGRAMIRANJE  OSREDNJESLOVENSKA    LJUBLJANA Z OKOLICO  7.00   \n",
       "8               TRENER/KA          GORENJSKA     JESENICE Z OKOLICO  8.45   \n",
       "9        PARKIRANJE VOZIL       OBALNOKRAŠKA        KOPER Z OKOLICO  4.79   \n",
       "10             POUČEVANJE          GORENJSKA  ŠKOFJA LOKA Z OKOLICO  9.00   \n",
       "..                    ...                ...                    ...   ...   \n",
       "744  ADMINISTRATIVNA DELA  OSREDNJESLOVENSKA         DOMŽALE-KAMNIK  6.76   \n",
       "745    DELO V PROIZVODNJI          DOLENJSKA              DOLENJSKA  5.07   \n",
       "746  ADMINISTRATIVNA DELA  OSREDNJESLOVENSKA    LJUBLJANA Z OKOLICO  6.00   \n",
       "748          FIZIČNA DELA  OSREDNJESLOVENSKA    LJUBLJANA Z OKOLICO  5.07   \n",
       "750      DELO V SKLADIŠČU  OSREDNJESLOVENSKA         DOMŽALE-KAMNIK  4.56   \n",
       "\n",
       "     bruto  \n",
       "5     5.50  \n",
       "6     8.28  \n",
       "8    10.00  \n",
       "9     5.67  \n",
       "10   10.65  \n",
       "..     ...  \n",
       "744   8.00  \n",
       "745   6.00  \n",
       "746   7.10  \n",
       "748   6.00  \n",
       "750   5.40  \n",
       "\n",
       "[661 rows x 5 columns]"
      ]
     },
     "execution_count": 36,
     "metadata": {},
     "output_type": "execute_result"
    }
   ],
   "source": [
    "oglasi_placila = popolni_oglasi[['delo', 'Regija', 'podregije', 'neto', 'bruto']]\n",
    "oglasi_placila"
   ]
  },
  {
   "cell_type": "code",
   "execution_count": 37,
   "metadata": {},
   "outputs": [
    {
     "data": {
      "text/html": [
       "<div>\n",
       "<style scoped>\n",
       "    .dataframe tbody tr th:only-of-type {\n",
       "        vertical-align: middle;\n",
       "    }\n",
       "\n",
       "    .dataframe tbody tr th {\n",
       "        vertical-align: top;\n",
       "    }\n",
       "\n",
       "    .dataframe thead th {\n",
       "        text-align: right;\n",
       "    }\n",
       "</style>\n",
       "<table border=\"1\" class=\"dataframe\">\n",
       "  <thead>\n",
       "    <tr style=\"text-align: right;\">\n",
       "      <th></th>\n",
       "      <th>Min placilo [EUR/h]</th>\n",
       "      <th>Max placilo [EUR/h]</th>\n",
       "      <th>Mean placilo [EUR/h]</th>\n",
       "    </tr>\n",
       "    <tr>\n",
       "      <th>Regija</th>\n",
       "      <th></th>\n",
       "      <th></th>\n",
       "      <th></th>\n",
       "    </tr>\n",
       "  </thead>\n",
       "  <tbody>\n",
       "    <tr>\n",
       "      <th>DOLENJSKA</th>\n",
       "      <td>4.56</td>\n",
       "      <td>10.00</td>\n",
       "      <td>5.36</td>\n",
       "    </tr>\n",
       "    <tr>\n",
       "      <th>GORENJSKA</th>\n",
       "      <td>4.56</td>\n",
       "      <td>11.00</td>\n",
       "      <td>5.66</td>\n",
       "    </tr>\n",
       "    <tr>\n",
       "      <th>GORIŠKA</th>\n",
       "      <td>4.60</td>\n",
       "      <td>6.00</td>\n",
       "      <td>5.08</td>\n",
       "    </tr>\n",
       "    <tr>\n",
       "      <th>KOROŠKA</th>\n",
       "      <td>4.56</td>\n",
       "      <td>6.00</td>\n",
       "      <td>5.08</td>\n",
       "    </tr>\n",
       "    <tr>\n",
       "      <th>NOTRANJSKO KRAŠKA</th>\n",
       "      <td>4.56</td>\n",
       "      <td>10.00</td>\n",
       "      <td>5.18</td>\n",
       "    </tr>\n",
       "    <tr>\n",
       "      <th>OBALNOKRAŠKA</th>\n",
       "      <td>4.56</td>\n",
       "      <td>7.60</td>\n",
       "      <td>5.30</td>\n",
       "    </tr>\n",
       "    <tr>\n",
       "      <th>OSREDNJESLOVENSKA</th>\n",
       "      <td>4.56</td>\n",
       "      <td>20.00</td>\n",
       "      <td>5.84</td>\n",
       "    </tr>\n",
       "    <tr>\n",
       "      <th>PODRAVSKA</th>\n",
       "      <td>4.56</td>\n",
       "      <td>12.67</td>\n",
       "      <td>5.38</td>\n",
       "    </tr>\n",
       "    <tr>\n",
       "      <th>POMURSKA</th>\n",
       "      <td>4.56</td>\n",
       "      <td>6.34</td>\n",
       "      <td>5.49</td>\n",
       "    </tr>\n",
       "    <tr>\n",
       "      <th>SAVINJSKA</th>\n",
       "      <td>4.56</td>\n",
       "      <td>10.00</td>\n",
       "      <td>5.33</td>\n",
       "    </tr>\n",
       "    <tr>\n",
       "      <th>SPODNJEPOSAVSKA</th>\n",
       "      <td>4.56</td>\n",
       "      <td>10.00</td>\n",
       "      <td>5.39</td>\n",
       "    </tr>\n",
       "    <tr>\n",
       "      <th>ZASAVSKA</th>\n",
       "      <td>4.56</td>\n",
       "      <td>7.50</td>\n",
       "      <td>5.16</td>\n",
       "    </tr>\n",
       "  </tbody>\n",
       "</table>\n",
       "</div>"
      ],
      "text/plain": [
       "                   Min placilo [EUR/h]  Max placilo [EUR/h]  \\\n",
       "Regija                                                        \n",
       "DOLENJSKA                         4.56                10.00   \n",
       "GORENJSKA                         4.56                11.00   \n",
       "GORIŠKA                           4.60                 6.00   \n",
       "KOROŠKA                           4.56                 6.00   \n",
       "NOTRANJSKO KRAŠKA                 4.56                10.00   \n",
       "OBALNOKRAŠKA                      4.56                 7.60   \n",
       "OSREDNJESLOVENSKA                 4.56                20.00   \n",
       "PODRAVSKA                         4.56                12.67   \n",
       "POMURSKA                          4.56                 6.34   \n",
       "SAVINJSKA                         4.56                10.00   \n",
       "SPODNJEPOSAVSKA                   4.56                10.00   \n",
       "ZASAVSKA                          4.56                 7.50   \n",
       "\n",
       "                   Mean placilo [EUR/h]  \n",
       "Regija                                   \n",
       "DOLENJSKA                          5.36  \n",
       "GORENJSKA                          5.66  \n",
       "GORIŠKA                            5.08  \n",
       "KOROŠKA                            5.08  \n",
       "NOTRANJSKO KRAŠKA                  5.18  \n",
       "OBALNOKRAŠKA                       5.30  \n",
       "OSREDNJESLOVENSKA                  5.84  \n",
       "PODRAVSKA                          5.38  \n",
       "POMURSKA                           5.49  \n",
       "SAVINJSKA                          5.33  \n",
       "SPODNJEPOSAVSKA                    5.39  \n",
       "ZASAVSKA                           5.16  "
      ]
     },
     "execution_count": 37,
     "metadata": {},
     "output_type": "execute_result"
    }
   ],
   "source": [
    "razpon_placil = razpon_placila(oglasi_placila[['Regija','neto']], 'Regija', 'neto')\n",
    "razpon_placil"
   ]
  },
  {
   "cell_type": "code",
   "execution_count": 38,
   "metadata": {},
   "outputs": [
    {
     "data": {
      "text/plain": [
       "<AxesSubplot:xlabel='Regija'>"
      ]
     },
     "execution_count": 38,
     "metadata": {},
     "output_type": "execute_result"
    },
    {
     "data": {
      "image/png": "[encoded data removed]",
      "text/plain": [
       "<Figure size 432x288 with 1 Axes>"
      ]
     },
     "metadata": {
      "needs_background": "light"
     },
     "output_type": "display_data"
    }
   ],
   "source": [
    "razpon_placil.plot(kind = \"bar\")"
   ]
  },
  {
   "cell_type": "code",
   "execution_count": 39,
   "metadata": {},
   "outputs": [
    {
     "data": {
      "text/html": [
       "<div>\n",
       "<style scoped>\n",
       "    .dataframe tbody tr th:only-of-type {\n",
       "        vertical-align: middle;\n",
       "    }\n",
       "\n",
       "    .dataframe tbody tr th {\n",
       "        vertical-align: top;\n",
       "    }\n",
       "\n",
       "    .dataframe thead th {\n",
       "        text-align: right;\n",
       "    }\n",
       "</style>\n",
       "<table border=\"1\" class=\"dataframe\">\n",
       "  <thead>\n",
       "    <tr style=\"text-align: right;\">\n",
       "      <th></th>\n",
       "      <th>Min placilo [EUR/h]</th>\n",
       "      <th>Max placilo [EUR/h]</th>\n",
       "      <th>Mean placilo [EUR/h]</th>\n",
       "    </tr>\n",
       "    <tr>\n",
       "      <th>podregije</th>\n",
       "      <th></th>\n",
       "      <th></th>\n",
       "      <th></th>\n",
       "    </tr>\n",
       "  </thead>\n",
       "  <tbody>\n",
       "    <tr>\n",
       "      <th>DOMŽALE-KAMNIK</th>\n",
       "      <td>4.56</td>\n",
       "      <td>20.0</td>\n",
       "      <td>6.29</td>\n",
       "    </tr>\n",
       "    <tr>\n",
       "      <th>GROSUPLJE Z OKOLICO</th>\n",
       "      <td>4.56</td>\n",
       "      <td>6.0</td>\n",
       "      <td>5.06</td>\n",
       "    </tr>\n",
       "    <tr>\n",
       "      <th>LJUBLJANA Z OKOLICO</th>\n",
       "      <td>4.56</td>\n",
       "      <td>10.0</td>\n",
       "      <td>5.83</td>\n",
       "    </tr>\n",
       "    <tr>\n",
       "      <th>VRHNIKA Z OKOLICO</th>\n",
       "      <td>4.56</td>\n",
       "      <td>6.0</td>\n",
       "      <td>4.96</td>\n",
       "    </tr>\n",
       "  </tbody>\n",
       "</table>\n",
       "</div>"
      ],
      "text/plain": [
       "                     Min placilo [EUR/h]  Max placilo [EUR/h]  \\\n",
       "podregije                                                       \n",
       "DOMŽALE-KAMNIK                      4.56                 20.0   \n",
       "GROSUPLJE Z OKOLICO                 4.56                  6.0   \n",
       "LJUBLJANA Z OKOLICO                 4.56                 10.0   \n",
       "VRHNIKA Z OKOLICO                   4.56                  6.0   \n",
       "\n",
       "                     Mean placilo [EUR/h]  \n",
       "podregije                                  \n",
       "DOMŽALE-KAMNIK                       6.29  \n",
       "GROSUPLJE Z OKOLICO                  5.06  \n",
       "LJUBLJANA Z OKOLICO                  5.83  \n",
       "VRHNIKA Z OKOLICO                    4.96  "
      ]
     },
     "execution_count": 39,
     "metadata": {},
     "output_type": "execute_result"
    }
   ],
   "source": [
    "oglasi_lj_placilo = oglasi_placila[oglasi_placila[\"Regija\"] == \"OSREDNJESLOVENSKA\"]\n",
    "razpon_placil_lj = razpon_placila(oglasi_lj_placilo[['podregije','neto']], 'podregije', 'neto')\n",
    "razpon_placil_lj"
   ]
  },
  {
   "cell_type": "code",
   "execution_count": 40,
   "metadata": {},
   "outputs": [
    {
     "data": {
      "text/plain": [
       "<AxesSubplot:xlabel='podregije'>"
      ]
     },
     "execution_count": 40,
     "metadata": {},
     "output_type": "execute_result"
    },
    {
     "data": {
      "image/png": "[encoded data removed]",
      "text/plain": [
       "<Figure size 432x288 with 1 Axes>"
      ]
     },
     "metadata": {
      "needs_background": "light"
     },
     "output_type": "display_data"
    }
   ],
   "source": [
    "razpon_placil_lj.plot(kind = \"bar\")"
   ]
  },
  {
   "cell_type": "markdown",
   "metadata": {},
   "source": [
    "## 2. Analiza različnih tipov študentskih del"
   ]
  },
  {
   "cell_type": "markdown",
   "metadata": {},
   "source": [
    "## 3. Zaključek "
   ]
  },
  {
   "cell_type": "code",
   "execution_count": null,
   "metadata": {},
   "outputs": [],
   "source": []
  },
  {
   "cell_type": "code",
   "execution_count": null,
   "metadata": {},
   "outputs": [],
   "source": []
  },
  {
   "cell_type": "code",
   "execution_count": null,
   "metadata": {},
   "outputs": [],
   "source": []
  }
 ],
 "metadata": {
  "kernelspec": {
   "display_name": "Python 3 (ipykernel)",
   "language": "python",
   "name": "python3"
  },
  "language_info": {
   "codemirror_mode": {
    "name": "ipython",
    "version": 3
   },
   "file_extension": ".py",
   "mimetype": "text/x-python",
   "name": "python",
   "nbconvert_exporter": "python",
   "pygments_lexer": "ipython3",
   "version": "3.9.6"
  }
 },
 "nbformat": 4,
 "nbformat_minor": 4
}
